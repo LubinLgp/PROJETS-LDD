{
 "cells": [
  {
   "cell_type": "code",
   "execution_count": 12,
   "id": "1dec5779-b9b0-4165-bf14-00946f55b156",
   "metadata": {
    "tags": []
   },
   "outputs": [],
   "source": [
    "tab=[]\n",
    "class Main:\n",
    "    tab = \"01234567\"\n",
    "    taille = len(tab)\n",
    "\n",
    "    @staticmethod\n",
    "    def main(args):\n",
    "        Main.generer(8, \"\")\n",
    "\n",
    "    @staticmethod\n",
    "    def generer(loop, sb):\n",
    "        if len(sb) == loop:\n",
    "            if len(set(sb)) == loop:\n",
    "                # on affiche la combinaison\n",
    "                #print(sb)\n",
    "                tab.append(sb)\n",
    "            return\n",
    "\n",
    "        for i in range(Main.taille):\n",
    "            if Main.tab[i] not in sb:\n",
    "                Main.generer(loop, sb + Main.tab[i])\n"
   ]
  },
  {
   "cell_type": "code",
   "execution_count": 21,
   "id": "fcd28dce-1c19-4ca3-b4e2-cf68f7ddb156",
   "metadata": {
    "tags": []
   },
   "outputs": [
    {
     "name": "stdout",
     "output_type": "stream",
     "text": [
      "40320\n"
     ]
    }
   ],
   "source": [
    "\n",
    "\n",
    "# Générer toutes les combinaisons possibles de la chaîne \"01234567\"\n",
    "Main.tab = \"01234567\"\n",
    "Main.taille = len(Main.tab)\n",
    "Main.main([])\n",
    "print(len(tab))"
   ]
  },
  {
   "cell_type": "code",
   "execution_count": 20,
   "id": "d0be5b80-aea3-44ca-bd5e-f3548aacde0c",
   "metadata": {
    "tags": []
   },
   "outputs": [],
   "source": [
    "tab=[]\n",
    "class Main:\n",
    "    tab = \"01234567\"\n",
    "    taille = len(tab)\n",
    "\n",
    "    @staticmethod\n",
    "    def main(args):\n",
    "        Main.generer(8, \"\")\n",
    "\n",
    "    @staticmethod\n",
    "    def generer(loop, sb):\n",
    "        if len(sb) == loop:\n",
    "            if len(set(sb)) == loop:\n",
    "                # on affiche la combinaison\n",
    "                #print(sb)\n",
    "                tab.append(sb)\n",
    "            return\n",
    "\n",
    "        for i in range(Main.taille):\n",
    "            Main.generer(loop, sb + Main.tab[i])\n",
    "            \n",
    "            \n",
    "            \n",
    "            \n",
    "Main.tab = \"01234567\"\n",
    "Main.taille = len(Main.tab)\n",
    "Main.main([])\n",
    "print(len(tab))\n"
   ]
  },
  {
   "cell_type": "code",
   "execution_count": 23,
   "id": "81a5aa65-c625-47e9-aed7-9129127ae848",
   "metadata": {
    "tags": []
   },
   "outputs": [
    {
     "name": "stdout",
     "output_type": "stream",
     "text": [
      "40320\n"
     ]
    }
   ],
   "source": [
    "s"
   ]
  },
  {
   "cell_type": "code",
   "execution_count": 28,
   "id": "ec741a17-3488-401e-9bf9-79fe379e48ac",
   "metadata": {
    "tags": []
   },
   "outputs": [
    {
     "data": {
      "text/plain": [
       "['1', '2', '3', '4']"
      ]
     },
     "execution_count": 28,
     "metadata": {},
     "output_type": "execute_result"
    }
   ],
   "source": [
    "\n",
    "list(\"1234\")"
   ]
  },
  {
   "cell_type": "code",
   "execution_count": 8,
   "id": "2f24431e-bc7b-4618-89a6-01c840e63c0f",
   "metadata": {
    "tags": []
   },
   "outputs": [],
   "source": [
    "from random import*"
   ]
  },
  {
   "cell_type": "code",
   "execution_count": 30,
   "id": "9c193df7-046a-448a-abc2-2fe0786023eb",
   "metadata": {
    "tags": []
   },
   "outputs": [],
   "source": [
    "a=[\"a\",\"b\",\"c\",\"d\",\"e\",\"f\",\"g\",\"h\"]\n",
    "b=[1,2,3,4,5,6,7,8]"
   ]
  },
  {
   "cell_type": "code",
   "execution_count": 41,
   "id": "6f84e4e3-74e4-4b49-83b2-e5a3f2a719a7",
   "metadata": {},
   "outputs": [],
   "source": [
    "def huitieme(a,b):\n",
    "    dejafait=[]\n",
    "    for i in range(len(a)):\n",
    "        inde1=i\n",
    "        inde2=i\n",
    "        while(i == inde2 or (b[inde2] in dejafait)):\n",
    "            inde2=randint(0,len(b)-1)\n",
    "        e1=a[inde1]\n",
    "        e2=b[inde2]\n",
    "        dejafait.append(e2)\n",
    "        print(e1,e2)\n",
    "        "
   ]
  },
  {
   "cell_type": "code",
   "execution_count": 42,
   "id": "27618972-e386-4565-b1b8-8a293ed4056c",
   "metadata": {
    "tags": []
   },
   "outputs": [
    {
     "name": "stdout",
     "output_type": "stream",
     "text": [
      "a 4\n",
      "b 5\n",
      "c 6\n",
      "d 3\n",
      "e 8\n",
      "f 1\n",
      "g 2\n",
      "h 7\n"
     ]
    }
   ],
   "source": [
    "huitieme(a,b)"
   ]
  },
  {
   "cell_type": "code",
   "execution_count": null,
   "id": "a7697efc-8ec4-4a33-93b9-de016c90bd63",
   "metadata": {},
   "outputs": [],
   "source": []
  }
 ],
 "metadata": {
  "kernelspec": {
   "display_name": "Python 3 (ipykernel)",
   "language": "python",
   "name": "python3"
  },
  "language_info": {
   "codemirror_mode": {
    "name": "ipython",
    "version": 3
   },
   "file_extension": ".py",
   "mimetype": "text/x-python",
   "name": "python",
   "nbconvert_exporter": "python",
   "pygments_lexer": "ipython3",
   "version": "3.10.8"
  }
 },
 "nbformat": 4,
 "nbformat_minor": 5
}
