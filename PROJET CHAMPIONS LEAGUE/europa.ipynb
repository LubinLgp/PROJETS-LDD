{
 "cells": [
  {
   "cell_type": "code",
   "execution_count": 36,
   "id": "83ce1b98-230f-48fa-8403-3d0e59d1e2de",
   "metadata": {
    "tags": []
   },
   "outputs": [],
   "source": [
    "import random\n",
    "from random import randint"
   ]
  },
  {
   "cell_type": "code",
   "execution_count": 37,
   "id": "130c88a7-0abd-4c22-9213-958a3a73ff6e",
   "metadata": {
    "tags": []
   },
   "outputs": [],
   "source": [
    "score={'MU':1683,'PSG':1368,'LIV':1836,'TOT':1041, 'LYON':812, 'BARCA':1828, 'AJAX':832,'BM':1968,'JUV':1320,'RM':2625,'PORTO':1137, 'MC':2009, 'INTER':1202, 'DOR':1070,'SEV':1461,'CHE':1880,'AMD':1543,'BEN':1164,'ROM':1101,'ARS':1118,'Milan AC':995,'NAP':970,'Leipzig':889,'OM':611,'SOC':588,'WHU':557,'MON':533,'Basel':518,'ROT':494,'VAL':425,'LEI':410,'REN':393}"
   ]
  },
  {
   "cell_type": "code",
   "execution_count": 38,
   "id": "b3e46bb0-1998-4e28-90e4-0c92da7c56f4",
   "metadata": {
    "tags": []
   },
   "outputs": [
    {
     "name": "stdout",
     "output_type": "stream",
     "text": [
      "['MU', 'PSG', 'LIV', 'TOT', 'LYON', 'BARCA', 'AJAX', 'BM', 'JUV', 'RM', 'PORTO', 'MC', 'INTER', 'DOR', 'SEV', 'CHE', 'AMD', 'BEN', 'ROM', 'ARS', 'Milan AC', 'NAP', 'Leipzig', 'OM', 'SOC', 'WHU', 'MON', 'Basel', 'ROT', 'VAL', 'LEI', 'REN']\n"
     ]
    }
   ],
   "source": [
    "equipes=list(score.keys())\n",
    "print(equipes)"
   ]
  },
  {
   "cell_type": "code",
   "execution_count": 39,
   "id": "3dd6a4b9-5224-4e81-b219-ee9bde44992b",
   "metadata": {
    "tags": []
   },
   "outputs": [],
   "source": [
    "Premier=[]\n",
    "Second=[]"
   ]
  },
  {
   "cell_type": "code",
   "execution_count": 40,
   "id": "96037ac6-715c-4fc8-9dda-0ab7c3929f7b",
   "metadata": {
    "tags": []
   },
   "outputs": [],
   "source": [
    "def gagnant(a , b, prob):\n",
    "    prob = prob*100\n",
    "    score = random.randint(0, 100)\n",
    "    if score < prob:\n",
    "        return a\n",
    "    else:\n",
    "        return b"
   ]
  },
  {
   "cell_type": "code",
   "execution_count": 41,
   "id": "7c066f43-104d-4a65-94a9-c9d247e8d45b",
   "metadata": {
    "tags": []
   },
   "outputs": [],
   "source": [
    "def tirpoules(equipes): \n",
    "    poules = [ ]\n",
    "    while (len(equipes) !=0):\n",
    "        temp=[]\n",
    "        for i in range(4) :\n",
    "            indice = randint(0, len(equipes) - 1)\n",
    "            temp.append(equipes[indice])\n",
    "            equipes.pop(indice) \n",
    "        poules.append(temp)\n",
    "    return poules"
   ]
  },
  {
   "cell_type": "code",
   "execution_count": 42,
   "id": "7a2f441a-21d5-42ee-8e79-bf45035df77d",
   "metadata": {
    "tags": []
   },
   "outputs": [],
   "source": [
    "def tirage(configmatch,need2nd=False):\n",
    "    Premier=[]\n",
    "    Second=[]\n",
    "    for grp in configmatch:\n",
    "        points = {equipe: 0 for equipe in grp}\n",
    "        for i in range(len(grp)):\n",
    "            for j in range(len(grp)):\n",
    "                if i!=j:\n",
    "                    for k in range(2):\n",
    "                        A = grp[i]\n",
    "                        B = grp[j]\n",
    "                        prob = score[A]/(score[A]+score[B])\n",
    "                        points[gagnant(A , B, prob)] += 3\n",
    "\n",
    "        sorted_points = sorted(points.items(), key=lambda x: x[1], reverse=True)\n",
    "        classement = dict(sorted_points[:2])\n",
    "        classement = list(classement.keys())\n",
    "        if classement[0]==classement[1]:\n",
    "            r=randint(1,2)\n",
    "            if r==1:\n",
    "                Premier.append(classement[0])\n",
    "                Second.append(classement[1])\n",
    "            else:\n",
    "                Premier.append(classement[1])\n",
    "                Second.append(classement[0])\n",
    "        else:\n",
    "            Premier.append(classement[0])\n",
    "            Second.append(classement[1])\n",
    "    if need2nd:\n",
    "        return(Premier,Second)\n",
    "    else:\n",
    "        return Premier"
   ]
  },
  {
   "cell_type": "code",
   "execution_count": 43,
   "id": "c243122b-15a1-4e72-8916-d460f30263a9",
   "metadata": {
    "tags": []
   },
   "outputs": [
    {
     "name": "stdout",
     "output_type": "stream",
     "text": [
      "[['PORTO', 'LEI', 'REN', 'MU'], ['AJAX', 'ROT', 'LYON', 'RM'], ['OM', 'ROM', 'MC', 'AMD'], ['BEN', 'LIV', 'MON', 'SOC'], ['Basel', 'INTER', 'BARCA', 'SEV'], ['NAP', 'VAL', 'CHE', 'BM'], ['WHU', 'JUV', 'PSG', 'Milan AC'], ['DOR', 'TOT', 'ARS', 'Leipzig']]\n"
     ]
    }
   ],
   "source": [
    "equipes=list(score.keys())\n",
    "poules=tirpoules(equipes)\n",
    "print(poules)"
   ]
  },
  {
   "cell_type": "code",
   "execution_count": 44,
   "id": "ebcd7abb-278e-4c8e-95c8-e18d05020d2e",
   "metadata": {
    "tags": []
   },
   "outputs": [
    {
     "name": "stdout",
     "output_type": "stream",
     "text": [
      "(['PORTO', 'RM', 'AMD', 'LIV', 'SEV', 'BM', 'JUV', 'Leipzig'], ['MU', 'LYON', 'MC', 'BEN', 'BARCA', 'CHE', 'PSG', 'ARS'])\n"
     ]
    }
   ],
   "source": [
    "huitiemes=tirage(poules,need2nd=True)\n",
    "print(huitiemes)"
   ]
  },
  {
   "cell_type": "code",
   "execution_count": 45,
   "id": "084dbfde-754d-4780-b503-649f8bd9e53a",
   "metadata": {
    "tags": []
   },
   "outputs": [
    {
     "name": "stdout",
     "output_type": "stream",
     "text": [
      "[['PORTO', 'MU'], ['RM', 'LYON'], ['AMD', 'MC'], ['LIV', 'BEN'], ['SEV', 'BARCA'], ['BM', 'CHE'], ['JUV', 'PSG'], ['Leipzig', 'ARS']]\n"
     ]
    }
   ],
   "source": [
    "\n",
    "def huitieme(a,b):\n",
    "    res=[]\n",
    "    for i in range(len(a)):\n",
    "        res.append([a[i],b[i]])\n",
    "    return res\n",
    "grphuitieme=huitieme(huitiemes[0],huitiemes[1])\n",
    "print(grphuitieme)"
   ]
  },
  {
   "cell_type": "code",
   "execution_count": 46,
   "id": "e40ff8d6-7d43-46d4-ad20-eb56a7d13af6",
   "metadata": {
    "tags": []
   },
   "outputs": [
    {
     "name": "stdout",
     "output_type": "stream",
     "text": [
      "['MU', 'RM', 'AMD', 'BEN', 'SEV', 'CHE', 'JUV', 'ARS']\n"
     ]
    }
   ],
   "source": [
    "quart=tirage(grphuitieme)\n",
    "print(quart)"
   ]
  },
  {
   "cell_type": "code",
   "execution_count": 47,
   "id": "5986de04-4279-424f-a7fa-1afe1874ed7f",
   "metadata": {
    "tags": []
   },
   "outputs": [
    {
     "name": "stdout",
     "output_type": "stream",
     "text": [
      "[['MU', 'RM'], ['AMD', 'BEN'], ['SEV', 'CHE'], ['JUV', 'ARS']]\n"
     ]
    }
   ],
   "source": [
    "groupequart=[[quart[i],quart[i+1]] for i in range(0,len(quart),2)]\n",
    "print(groupequart)"
   ]
  },
  {
   "cell_type": "code",
   "execution_count": 48,
   "id": "344fc542-92f7-4efd-8699-3443d5437aad",
   "metadata": {
    "tags": []
   },
   "outputs": [
    {
     "name": "stdout",
     "output_type": "stream",
     "text": [
      "['RM', 'AMD', 'SEV', 'JUV']\n"
     ]
    }
   ],
   "source": [
    "demi=tirage(groupequart)\n",
    "print(demi)"
   ]
  },
  {
   "cell_type": "code",
   "execution_count": 49,
   "id": "aa0ba162-8264-4733-a9ec-74bfdf9a1bcc",
   "metadata": {
    "tags": []
   },
   "outputs": [
    {
     "name": "stdout",
     "output_type": "stream",
     "text": [
      "[['RM', 'AMD'], ['SEV', 'JUV']]\n"
     ]
    }
   ],
   "source": [
    "groupedemi=[[demi[i],demi[i+1]] for i in range(0,len(demi),2)]\n",
    "print(groupedemi)"
   ]
  },
  {
   "cell_type": "code",
   "execution_count": 50,
   "id": "892a0359-2812-413f-bb5e-6765cb15a3d7",
   "metadata": {
    "tags": []
   },
   "outputs": [
    {
     "name": "stdout",
     "output_type": "stream",
     "text": [
      "['RM', 'SEV']\n"
     ]
    }
   ],
   "source": [
    "finale=tirage(groupedemi)\n",
    "print(finale)"
   ]
  },
  {
   "cell_type": "code",
   "execution_count": 51,
   "id": "5731eec0-4dbc-47b0-8be5-37a1bd934dfd",
   "metadata": {
    "tags": []
   },
   "outputs": [],
   "source": [
    "groupefinale=[finale]"
   ]
  },
  {
   "cell_type": "code",
   "execution_count": 52,
   "id": "00e5406e-fed3-4b34-a1f0-9f43e1cde96d",
   "metadata": {
    "tags": []
   },
   "outputs": [
    {
     "name": "stdout",
     "output_type": "stream",
     "text": [
      "RM\n"
     ]
    }
   ],
   "source": [
    "winner=tirage(groupefinale)\n",
    "print(winner[0])"
   ]
  },
  {
   "cell_type": "code",
   "execution_count": 53,
   "id": "1b4e5f17-1a52-499a-8482-393cc88975b9",
   "metadata": {
    "tags": []
   },
   "outputs": [],
   "source": [
    "def europaleague():\n",
    "    equipes=list(score.keys())\n",
    "    poules=tirpoules(equipes)\n",
    "    huitiemes=tirage(poules,need2nd=True)\n",
    "    grphuitieme=huitieme(huitiemes[0],huitiemes[1])\n",
    "    quart=tirage(grphuitieme)\n",
    "    groupequart=[[quart[i],quart[i+1]] for i in range(0,len(quart),2)]\n",
    "    demi=tirage(groupequart)\n",
    "    groupedemi=[[demi[i],demi[i+1]] for i in range(0,len(demi),2)]\n",
    "    finale=tirage(groupedemi)\n",
    "    groupefinale=[finale]\n",
    "    winner=tirage(groupefinale)\n",
    "    return winner[0]"
   ]
  },
  {
   "cell_type": "code",
   "execution_count": 54,
   "id": "e45d08e0-4c28-424c-a6b6-64ff35c8d532",
   "metadata": {
    "tags": []
   },
   "outputs": [
    {
     "data": {
      "text/plain": [
       "'RM'"
      ]
     },
     "execution_count": 54,
     "metadata": {},
     "output_type": "execute_result"
    }
   ],
   "source": [
    "europaleague()"
   ]
  },
  {
   "cell_type": "code",
   "execution_count": 20,
   "id": "cfef4227-4460-48d1-84b4-51828d5e7a26",
   "metadata": {
    "tags": []
   },
   "outputs": [],
   "source": [
    "import matplotlib.pyplot as plt\n",
    "def europaLeagueGraph(): \n",
    "    gagnant = {equipe:0 for equipe in list(score.keys())}\n",
    "    for i in range(2000): \n",
    "        champion=europaleague()\n",
    "        gagnant[champion]+=1\n",
    "    gagnantf={}\n",
    "    for cle in gagnant.keys():\n",
    "        if gagnant[cle] != 0:\n",
    "            gagnantf[cle] = gagnant[cle]\n",
    "    names=list(gagnantf.keys())\n",
    "    values=list(gagnantf.values())\n",
    "    print(names)\n",
    "    print(values)\n",
    "    plt.figure(figsize=(18,5))\n",
    "    plt.bar(names,values)\n",
    "    plt.show()"
   ]
  },
  {
   "cell_type": "code",
   "execution_count": 56,
   "id": "ce70648e-cd4e-4424-9aa6-2c5a6a618c22",
   "metadata": {
    "tags": []
   },
   "outputs": [
    {
     "name": "stdout",
     "output_type": "stream",
     "text": [
      "['MU', 'PSG', 'LIV', 'TOT', 'LYON', 'BARCA', 'AJAX', 'BM', 'JUV', 'RM', 'PORTO', 'MC', 'INTER', 'DOR', 'SEV', 'CHE', 'AMD', 'BEN', 'ROM', 'ARS', 'Milan AC', 'NAP', 'Leipzig', 'OM', 'SOC', 'MON', 'Basel']\n",
      "[115, 47, 150, 17, 3, 176, 4, 190, 46, 496, 23, 255, 36, 23, 71, 155, 93, 21, 25, 22, 11, 8, 8, 1, 1, 2, 1]\n"
     ]
    },
    {
     "data": {
      "image/png": "[encoded data removed]",
      "text/plain": [
       "<Figure size 1800x500 with 1 Axes>"
      ]
     },
     "metadata": {},
     "output_type": "display_data"
    }
   ],
   "source": [
    "europaLeagueGraph()"
   ]
  },
  {
   "cell_type": "code",
   "execution_count": null,
   "id": "e0b2fad0-4022-4992-b73e-8621b0d387c4",
   "metadata": {},
   "outputs": [],
   "source": []
  },
  {
   "cell_type": "code",
   "execution_count": 22,
   "id": "8a7ff459-5554-4a0e-addb-500d73d4a82d",
   "metadata": {
    "tags": []
   },
   "outputs": [
    {
     "name": "stdout",
     "output_type": "stream",
     "text": [
      "['1', '2', '3', '4', '5', '6', '7', '8', '9', '10', '11', '12', '13', '14', '15', '16', '17', '18', '19', '20', '21', '22', '23', '24', '25', '26', '27', '28', '29', '30', '31', '32']\n",
      "[905, 937, 950, 947, 912, 909, 958, 1010, 950, 922, 960, 917, 916, 939, 929, 958, 950, 929, 940, 961, 909, 942, 940, 972, 910, 892, 982, 938, 940, 922, 902, 952]\n"
     ]
    },
    {
     "data": {
      "image/png": "[encoded data removed]",
      "text/plain": [
       "<Figure size 640x480 with 1 Axes>"
      ]
     },
     "metadata": {},
     "output_type": "display_data"
    }
   ],
   "source": [
    "gagnant = {str(equipe):0 for equipe in range(1,33)}\n",
    "for i in range(30000): \n",
    "    champion=randint(0,31)\n",
    "    gagnant[list(gagnant.keys())[champion]]+=1\n",
    "\"\"\"\n",
    "    gagnantf={}\n",
    "for cle in gagnant.keys():\n",
    "    if gagnant[cle] != 0:\n",
    "        gagnantf[cle] = gagnant[cle]\n",
    "\"\"\"\n",
    "names=list(gagnant.keys())\n",
    "values=list(gagnant.values())\n",
    "print(names)\n",
    "print(values)\n",
    "plt.bar(names,values)\n",
    "plt.show()"
   ]
  },
  {
   "cell_type": "code",
   "execution_count": null,
   "id": "5b0526ba-ad02-4ce3-9068-4597f8ba4daf",
   "metadata": {},
   "outputs": [],
   "source": []
  },
  {
   "cell_type": "code",
   "execution_count": null,
   "id": "a625f96f-ef55-449e-bb67-9b82cfe3a2f1",
   "metadata": {},
   "outputs": [],
   "source": []
  }
 ],
 "metadata": {
  "kernelspec": {
   "display_name": "Python 3 (ipykernel)",
   "language": "python",
   "name": "python3"
  },
  "language_info": {
   "codemirror_mode": {
    "name": "ipython",
    "version": 3
   },
   "file_extension": ".py",
   "mimetype": "text/x-python",
   "name": "python",
   "nbconvert_exporter": "python",
   "pygments_lexer": "ipython3",
   "version": "3.10.8"
  }
 },
 "nbformat": 4,
 "nbformat_minor": 5
}
